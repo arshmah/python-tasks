{
 "cells": [
  {
   "cell_type": "markdown",
   "metadata": {},
   "source": [
    "# Exercise # 1:\n",
    "Given a Python list you should be able to display Python list in the following order\n",
    "\n",
    "aLsit = [100, 200, 300, 400, 500]\n",
    "\n",
    "Expected output:\n",
    "\n",
    "[500, 400, 300, 200, 100]"
   ]
  },
  {
   "cell_type": "code",
   "execution_count": 12,
   "metadata": {},
   "outputs": [
    {
     "output_type": "stream",
     "name": "stdout",
     "text": [
      "Given List:\n[100, 200, 300, 400, 500]\nExpected List:\n[500, 400, 300, 200, 100]\n"
     ]
    }
   ],
   "source": [
    "print(\"Given List:\")\n",
    "aLsit = [100, 200, 300, 400, 500]\n",
    "print(aLsit)\n",
    "print(\"Expected List:\")\n",
    "print(aLsit[::-1])"
   ]
  },
  {
   "cell_type": "markdown",
   "metadata": {},
   "source": [
    "# Exercise # 2: \n",
    "\n",
    "Concatenate two lists index-wise\n",
    "\n",
    "list1 = [\"M\", \"na\", \"i\", \"Ke\"] \n",
    "\n",
    "list2 = [\"y\", \"me\", \"s\", \"lly\"]\n",
    "\n",
    "Expected output:\n",
    "\n",
    "['My', 'name', 'is', 'Kelly']"
   ]
  },
  {
   "cell_type": "code",
   "execution_count": 13,
   "metadata": {},
   "outputs": [
    {
     "output_type": "stream",
     "name": "stdout",
     "text": [
      "The original list 1 is: ['M', 'na', 'i', 'Ke']\nThe original list 2 is: ['y', 'me', 's', 'lly']\nThe list after concatenation of same indexes of two different lists is: ['My', 'name', 'is', 'Kelly']\n"
     ]
    }
   ],
   "source": [
    "list1 = [\"M\", \"na\", \"i\", \"Ke\"]\n",
    "list2 = [\"y\", \"me\", \"s\", \"lly\"]\n",
    "print(f\"The original list 1 is: {list1}\")\n",
    "print(f\"The original list 2 is: {list2}\")\n",
    "#using list comprehension + zip() method to concatenate elements with same index from both the lists\n",
    "inter_connect = [a + b for a, b in zip(list1, list2)]\n",
    "print(f\"The list after concatenation of same indexes of two different lists is: {inter_connect}\")\n"
   ]
  },
  {
   "cell_type": "markdown",
   "metadata": {},
   "source": [
    "\n",
    "# Exercise Question 3: \n",
    "Given a Python list. Turn every item of a list into its square\n",
    "\n",
    "aList = [1, 2, 3, 4, 5, 6, 7]\n",
    "\n",
    "Expected output:\n",
    "\n",
    "[1, 4, 9, 16, 25, 36, 49]"
   ]
  },
  {
   "cell_type": "code",
   "execution_count": 18,
   "metadata": {},
   "outputs": [
    {
     "output_type": "stream",
     "name": "stdout",
     "text": [
      "Square of [1, 2, 3, 4, 5, 6, 7] is: \n \t [1, 4, 9, 16, 25, 36, 49]\n"
     ]
    }
   ],
   "source": [
    "aList = [1, 2, 3, 4, 5, 6, 7]\n",
    "bList = []\n",
    "for a in aList:\n",
    "    bList.append(a*a)\n",
    "print(f\"Square of {aList} is: \\n \\t {bList}\")"
   ]
  },
  {
   "cell_type": "markdown",
   "metadata": {},
   "source": [
    "# Exercise # 4: \n",
    "Concatenate two lists in the following order\n",
    "\n",
    "list1 = [\"Hello \", \"take \"]\n",
    "\n",
    "list2 = [\"Dear\", \"Sir\"]\n",
    "\n",
    "Expected output:\n",
    "\n",
    "['Hello Dear', 'Hello Sir', 'take Dear', 'take Sir']"
   ]
  },
  {
   "cell_type": "code",
   "execution_count": 3,
   "metadata": {},
   "outputs": [
    {
     "output_type": "stream",
     "name": "stdout",
     "text": [
      "['Hello Dear', 'Hello Sir', 'take Dear', 'take Sir']\n"
     ]
    }
   ],
   "source": [
    "list1 = ['Hello ', 'take ']\n",
    "list2 = ['Dear', 'Sir']\n",
    "list3 = []\n",
    "for i in list1:\n",
    "    for j in list2:\n",
    "        list3.append(i +j)\n",
    "print(list3)"
   ]
  },
  {
   "cell_type": "markdown",
   "metadata": {},
   "source": [
    "# Exercise # 5: \n",
    "Given a two Python list. Iterate both lists simultaneously such that list1 should display item in original order and list2 in reverse order\n",
    "\n",
    "list1 = [10, 20, 30, 40]\n",
    "\n",
    "list2 = [100, 200, 300, 400]\n",
    "\n",
    "Expected output:\n",
    "\n",
    "10 400\n",
    "\n",
    "20 300\n",
    "\n",
    "30 200\n",
    "\n",
    "40 100"
   ]
  },
  {
   "cell_type": "code",
   "execution_count": 13,
   "metadata": {},
   "outputs": [
    {
     "output_type": "stream",
     "name": "stdout",
     "text": [
      "10 400\n20 300\n30 200\n40 100\n"
     ]
    }
   ],
   "source": [
    "list1 = [10,20,30,40]\n",
    "list2 = [100, 200, 300, 400]\n",
    "for a,b in zip (list1, list2[::-1]):\n",
    "     print(a,b)\n",
    "        \n"
   ]
  },
  {
   "cell_type": "markdown",
   "metadata": {},
   "source": [
    "\n",
    "# Exercise # 6 :\n",
    "Remove empty strings from the list of strings\n",
    "\n",
    "list1 = [\"Mike\", \"\", \"Emma\", \"Kelly\", \"\", \"Brad\"]\n",
    "\n",
    "Expected output:\n",
    "\n",
    "[\"Mike\", \"Emma\", \"Kelly\", \"Brad\"]"
   ]
  },
  {
   "cell_type": "code",
   "execution_count": 4,
   "metadata": {},
   "outputs": [
    {
     "output_type": "stream",
     "name": "stdout",
     "text": [
      "list before removing empty strings is: ['Mike', '', 'Emma', 'Kelly', '', 'Brad']\nlist after removing empty strings is: ['Mike', 'Emma', 'Kelly', 'Brad']\n"
     ]
    }
   ],
   "source": [
    "list1 = [\"Mike\", \"\", \"Emma\", \"Kelly\", \"\", \"Brad\"]\n",
    "print(f\"list before removing empty strings is: {list1}\")\n",
    "list2 = list1.pop(1) , list1.pop(3)\n",
    "print(f\"list after removing empty strings is: {list1}\")"
   ]
  },
  {
   "cell_type": "markdown",
   "metadata": {},
   "source": [
    "# Exercise # 7 :\n",
    "Write a Python program to convert temperatures to and from celsius, fahrenheit. Go to the editor\n",
    "[ Formula : c/5 = f-32/9 [ where c = temperature in celsius and f = temperature in fahrenheit ]\n",
    "Expected Output :\n",
    "60°C is 140 in Fahrenheit\n",
    "45°F is 7 in Celsius\n"
   ]
  },
  {
   "cell_type": "code",
   "execution_count": 16,
   "metadata": {},
   "outputs": [
    {
     "output_type": "stream",
     "name": "stdout",
     "text": [
      "60C is 140F in Fahrenheit temperature\n",
      "45F is 7C in Celsius temperature\n"
     ]
    }
   ],
   "source": [
    "#Celsius = (Fahrenheit – 32) * 5/9\n",
    "#Fahrenheit = (Celsius * 9/5) + 32\n",
    "#conversion of celsius into fahrenheit\n",
    "c_temp = int(input(\"enter the temperature in Celsius \"))\n",
    "f_temp = (c_temp * 9//5) + 32  \n",
    "print(f\"{c_temp}C is {f_temp}F in Fahrenheit temperature\")\n",
    "#conversion of Fahrenheit into Celsius\n",
    "fahrenheit = int(input(\"Enter temperature in fahrenheit: \"))\n",
    "celsius = (fahrenheit - 32) * 5//9\n",
    "print(f\"{fahrenheit}F is {celsius}C in Celsius temperature\" )"
   ]
  },
  {
   "cell_type": "markdown",
   "metadata": {},
   "source": [
    "# Exercise # 8\n",
    "Write a Python program to guess a number between 1 to 9.\n",
    "Note : User is prompted to enter a guess. If the user guesses wrong\n",
    "then the prompt appears again until the guess is correct, on successful guess,\n",
    "user will get a \"Well guessed!\" message, and the program will exit.\n"
   ]
  },
  {
   "cell_type": "code",
   "execution_count": 5,
   "metadata": {},
   "outputs": [
    {
     "output_type": "stream",
     "name": "stdout",
     "text": [
      "Alas! You must try again :( \n",
      " \n",
      "Alas! You must try again :( \n",
      " \n",
      "Alas! You must try again :( \n",
      " \n",
      "Alas! You must try again :( \n",
      " \n",
      "Well Guessed!\n"
     ]
    }
   ],
   "source": [
    "guess_the_number = (1,3,4,5,6,7,8,9)\n",
    "while True:\n",
    "    to_be_guessed = int(input('Enter the number between 1 to 9 to guess what actually I guessed: '))\n",
    "    if to_be_guessed == guess_the_number:\n",
    "        print(\"Try Again!\")\n",
    "    elif to_be_guessed == 2:\n",
    "        print(\"Well Guessed!\")\n",
    "\n",
    "    else:\n",
    "        print(\"Alas! out of range :( \\n \")"
   ]
  },
  {
   "cell_type": "markdown",
   "metadata": {},
   "source": [
    "# Exercise # 9\n",
    "Write a Python program that prints all the numbers from 0 to 6 except 3 and 6."
   ]
  },
  {
   "cell_type": "code",
   "execution_count": 5,
   "metadata": {},
   "outputs": [
    {
     "output_type": "stream",
     "name": "stdout",
     "text": [
      "0\n1\n2\n4\n5\n"
     ]
    }
   ],
   "source": [
    "for a in range(7):\n",
    "    if a == 3 or a == 6:\n",
    "        continue\n",
    "    print(a)"
   ]
  },
  {
   "cell_type": "markdown",
   "metadata": {},
   "source": [
    "# Exercise # 10\n",
    "Write a Python program which iterates the integers from 1 to 50.\n",
    "For multiples of three print \"it is multiple of 3\" instead of the number \n",
    "and for the multiples of five print \"multiple of 5\". For numbers which are \n",
    "multiples of both three and five print \"multiple of both 3 and 5\"\n"
   ]
  },
  {
   "cell_type": "code",
   "execution_count": 2,
   "metadata": {},
   "outputs": [
    {
     "output_type": "stream",
     "name": "stdout",
     "text": [
      "1\n2\n3 is divisible by 3\n4\n5 is divisible by 5\n6 is divisible by 3\n7\n8\n9 is divisible by 3\n10 is divisible by 5\n11\n12 is divisible by 3\n13\n14\n15 is divisible by 3 and 5 both\n16\n17\n18 is divisible by 3\n19\n20 is divisible by 5\n21 is divisible by 3\n22\n23\n24 is divisible by 3\n25 is divisible by 5\n26\n27 is divisible by 3\n28\n29\n30 is divisible by 3 and 5 both\n31\n32\n33 is divisible by 3\n34\n35 is divisible by 5\n36 is divisible by 3\n37\n38\n39 is divisible by 3\n40 is divisible by 5\n41\n42 is divisible by 3\n43\n44\n45 is divisible by 3 and 5 both\n46\n47\n48 is divisible by 3\n49\n50 is divisible by 5\n"
     ]
    }
   ],
   "source": [
    "for q in range(1,51):\n",
    "    if (q % 3 == 0) and (q % 5 == 0):\n",
    "        print(f\"{q} is divisible by 3 and 5 both\")\n",
    "    elif (q % 5 == 0):\n",
    "        print(f\"{q} is divisible by 5\")\n",
    "    elif (q % 3 == 0):\n",
    "        print(f\"{q} is divisible by 3\")\n",
    "    else:\n",
    "        print(q)"
   ]
  },
  {
   "cell_type": "markdown",
   "metadata": {},
   "source": [
    "# Exercise # 11\n",
    "Write a Python program to create the multiplication table (from 1 to 10) of a number."
   ]
  },
  {
   "cell_type": "code",
   "execution_count": 2,
   "metadata": {},
   "outputs": [
    {
     "output_type": "stream",
     "name": "stdout",
     "text": [
      "2 x 1 = 2\n2 x 2 = 4\n2 x 3 = 6\n2 x 4 = 8\n2 x 5 = 10\n2 x 6 = 12\n2 x 7 = 14\n2 x 8 = 16\n2 x 9 = 18\n2 x 10 = 20\n"
     ]
    }
   ],
   "source": [
    "table = int(input(\"Enter the number to see the table: \"))\n",
    "for a in range(1,11):\n",
    "    print(table, 'x', a, '=', table*a)"
   ]
  },
  {
   "cell_type": "markdown",
   "metadata": {},
   "source": [
    "# Exercise # 12\n",
    "Get all diagonal of matrix and sum of it :\n",
    "matrix = [[1,2,3,4], [2,3,4,5], [3,4,5,6], [4,5,6,7]]"
   ]
  },
  {
   "cell_type": "code",
   "execution_count": null,
   "metadata": {},
   "outputs": [],
   "source": []
  }
 ],
 "metadata": {
  "kernelspec": {
   "display_name": "Python 3",
   "language": "python",
   "name": "python3"
  },
  "language_info": {
   "codemirror_mode": {
    "name": "ipython",
    "version": 3
   },
   "file_extension": ".py",
   "mimetype": "text/x-python",
   "name": "python",
   "nbconvert_exporter": "python",
   "pygments_lexer": "ipython3",
   "version": "3.7.3-final"
  }
 },
 "nbformat": 4,
 "nbformat_minor": 4
}