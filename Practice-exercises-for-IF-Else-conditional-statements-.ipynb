{
 "cells": [
  {
   "cell_type": "markdown",
   "metadata": {},
   "source": [
    "# Exercise # 1 :\n",
    "Take two int values from user and print greatest among them."
   ]
  },
  {
   "cell_type": "code",
   "execution_count": 3,
   "metadata": {},
   "outputs": [
    {
     "output_type": "stream",
     "name": "stdout",
     "text": [
      "First number is 2 \nSecond number is 6 \n6 is greater number\n"
     ]
    }
   ],
   "source": [
    "num1 = int(input(\"Enter first number \"))\n",
    "num2 = int(input(\"Enter second number \"))\n",
    "print(f\"First number is {num1} \")\n",
    "print(f\"Second number is {num2} \")\n",
    "print(max(num1 , num2), \"is greater number\")"
   ]
  },
  {
   "cell_type": "code",
   "execution_count": 43,
   "metadata": {},
   "outputs": [
    {
     "output_type": "stream",
     "name": "stdout",
     "text": [
      "7 is greater number\n"
     ]
    }
   ],
   "source": [
    "one = int(input(\"Enter first number\"))\n",
    "two = int(input(\"Enter second number\"))\n",
    "if one > two:\n",
    "    print(f\"{one} is greater number\")\n",
    "else:\n",
    "    print(f\"{two} is greater number\")"
   ]
  },
  {
   "cell_type": "markdown",
   "metadata": {},
   "source": [
    "# Exercise # 2:\n",
    "Take input of age of 3 people by user and determine oldest and youngest among them."
   ]
  },
  {
   "cell_type": "code",
   "execution_count": 5,
   "metadata": {},
   "outputs": [
    {
     "output_type": "stream",
     "name": "stdout",
     "text": [
      "Arsh is the oldest\nHashu is the youngest\n"
     ]
    }
   ],
   "source": [
    "peep1 = int(input(\"Enter age of Arsh \"))\n",
    "peep2 = int(input(\"Enter age of Kum \"))\n",
    "peep3 = int(input(\"Enter age of Hashu \"))\n",
    "#determining the oldest age\n",
    "if peep1 > peep2 and peep1 > peep3:\n",
    "    print(\"Arsh is the oldest\")\n",
    "elif peep2 > peep1 and peep2 > peep3:\n",
    "    print(\"Kum is the oldest\")\n",
    "elif peep3 > peep1 and peep3 > peep2:\n",
    "    print(\"Hashu is the oldest\")\n",
    "#determining the youngest age\n",
    "if peep1 < peep2 and peep1 < peep3:\n",
    "    print(\"Arsh is the youngest\")\n",
    "elif peep2 < peep1 and peep2 < peep3:\n",
    "    print(\"Kum is the youngest\")\n",
    "elif peep3 < peep1 and peep3 < peep2:\n",
    "    print(\"Hashu is the youngest\")\n",
    "\n",
    "\n"
   ]
  },
  {
   "cell_type": "markdown",
   "metadata": {},
   "source": [
    "# Exercise # 3:\n",
    "Take values of length and breadth of a rectangle from user and check if it is square or not."
   ]
  },
  {
   "cell_type": "code",
   "execution_count": 8,
   "metadata": {},
   "outputs": [
    {
     "output_type": "stream",
     "name": "stdout",
     "text": [
      "Length of a rectangle is 4\nBreadth of a rectangle is 6\nGiven measurements show that it is not a square shape.\n"
     ]
    }
   ],
   "source": [
    "length = int(input(\"Enter the length of a rectangle \"))\n",
    "breadth = int(input(\"Enter the breadth of a rectangle \"))\n",
    "print(f\"Length of a rectangle is {length}\")\n",
    "print(f\"Breadth of a rectangle is {breadth}\")\n",
    "if length == breadth:\n",
    "    print(\"Given measurements show that it is a square shape.\")\n",
    "else:\n",
    "    print(\"Given measurements show that it is not a square shape.\")"
   ]
  },
  {
   "cell_type": "markdown",
   "metadata": {},
   "source": [
    "# Exercise # 4:\n",
    "A shop will give discount of 10% if the cost of purchased quantity is more than 1000.\n",
    "Ask user for quantity\n",
    "Suppose, one unit will cost 100.\n",
    "Judge and print total cost for user.\n"
   ]
  },
  {
   "cell_type": "code",
   "execution_count": 1,
   "metadata": {},
   "outputs": [
    {
     "output_type": "stream",
     "name": "stdout",
     "text": [
      "Total purchase is  20000\n"
     ]
    }
   ],
   "source": [
    "#unable to understand \n",
    "purchase = int(input(\"Enter the units of total purchase \"))\n",
    "\n",
    "if purchase*100 > 1000:\n",
    "    print(f\"total purchase is {purchase} and after discount \", (purchase*100)*"
   ]
  },
  {
   "cell_type": "markdown",
   "metadata": {},
   "source": [
    "# Exercise # 5:\n",
    "A company decided to give bonus of 5% to employee if his/her year of service is more than 5 years.\n",
    "Ask user for their salary and year of service and print the net bonus amount.\n",
    "\n"
   ]
  },
  {
   "cell_type": "code",
   "execution_count": 10,
   "metadata": {},
   "outputs": [
    {
     "output_type": "stream",
     "name": "stdout",
     "text": [
      "Your salary is 50000\n",
      "Your year of service is 6\n",
      "Your net bonus amount is  2500.0\n"
     ]
    }
   ],
   "source": [
    "salary = int(input(\"Enter your salary \"))\n",
    "print(f\"Your salary is {salary}\")\n",
    "service = int(input(\"Enter year of service \"))\n",
    "print(f\"Your year of service is {service}\")\n",
    "if service > 5:\n",
    "    print(\"Your net bonus amount is \", 0.05*salary)\n",
    "else:\n",
    "    print(\"You are not eligible fo bonus\")"
   ]
  },
  {
   "cell_type": "markdown",
   "metadata": {},
   "source": [
    "# Exercise # 6:\n",
    "A school has following rules for grading system:\n",
    "\n",
    "a. Below 25 - F\n",
    "\n",
    "b. 25 to 45 - E\n",
    "\n",
    "c. 45 to 50 - D\n",
    "\n",
    "d. 50 to 60 - C\n",
    "\n",
    "e. 60 to 80 - B\n",
    "\n",
    "f. Above 80 - A\n",
    "\n",
    "Ask user to enter marks and print the corresponding grade."
   ]
  },
  {
   "cell_type": "code",
   "execution_count": 1,
   "metadata": {},
   "outputs": [
    {
     "output_type": "stream",
     "name": "stdout",
     "text": [
      "You achieved grade B\n"
     ]
    }
   ],
   "source": [
    "marks = int(input(\"Enter obtained marks to check your Grade\"))\n",
    "if marks >= 80  and marks <= 100:\n",
    "    print(\"You achieved grade A\")\n",
    "elif marks >= 60 and marks <= 80:\n",
    "    print(\"You achieved grade B\")\n",
    "elif marks >= 50 and marks <= 60:\n",
    "    print(\"You achieved grade C\")\n",
    "elif marks >= 45 and marks <= 50:\n",
    "    print(\"You achieved grade D\")\n",
    "elif marks >= 25 and marks <= 45:\n",
    "    print(\"You achieved grade E\")\n",
    "else:\n",
    "    print(\"F\")\n"
   ]
  },
  {
   "cell_type": "markdown",
   "metadata": {},
   "source": [
    "# Exercise # 7:\n",
    "Write a program to print absolute vlaue of a number entered by user.\n",
    "\n",
    "E.g.-\n",
    "\n",
    "INPUT: 1    =>>>>    OUTPUT: 1\n",
    "\n",
    "INPUT: -1   =>>>>     OUTPUT: 1\n"
   ]
  },
  {
   "cell_type": "code",
   "execution_count": 2,
   "metadata": {},
   "outputs": [
    {
     "output_type": "stream",
     "name": "stdout",
     "text": [
      "Entered number is 60\nAbsolute value of 60 is  60\n"
     ]
    }
   ],
   "source": [
    "abs_value = int(input(\"Enter a number to check its absolute value \"))\n",
    "print(f\"Entered number is {abs_value}\")\n",
    "if abs_value < 0:\n",
    "    print(f\"Absolute value of {abs_value} is \" , (abs_value*-1))      #Q K 10 mint lga kr absolute value smjha ha tou ye method bhi likh dya :D\n",
    "else:\n",
    "    print(f\"Absolute value of {abs_value} is \" , (abs_value))"
   ]
  },
  {
   "cell_type": "code",
   "execution_count": 15,
   "metadata": {},
   "outputs": [
    {
     "output_type": "stream",
     "name": "stdout",
     "text": [
      "Absolute value of -4 is  4\n"
     ]
    }
   ],
   "source": [
    "value = int(input(\"Enter a number to check its absolute value \")) \n",
    "print(f\"Absolute value of {value} is \", abs(value))"
   ]
  },
  {
   "cell_type": "markdown",
   "metadata": {},
   "source": [
    "# Exercise # 8:\n",
    "A student will not be allowed to sit in exam if his/her attendence is less than 75%.\n",
    "Take following input from user\n",
    "Number of classes held\n",
    "Number of classes attended.\n",
    "And print\n",
    "percentage of class attended\n",
    "Is student is allowed to sit in exam or not."
   ]
  },
  {
   "cell_type": "code",
   "execution_count": 34,
   "metadata": {},
   "outputs": [
    {
     "output_type": "stream",
     "name": "stdout",
     "text": [
      "Number of classes held 200\n",
      "Number of classes attended 5\n",
      "Attendace is 2.5%\n",
      "You are not allowd to sit in the exam due to less attendance\n"
     ]
    }
   ],
   "source": [
    "held_classes = int(input(\"Enter the number of classes held \"))\n",
    "print(f\"Number of classes held {held_classes}\")\n",
    "attend_classes = int(input(\"Enter the number of classes attended \"))\n",
    "print(f\"Number of classes attended {attend_classes}\")\n",
    "total = (attend_classes/(held_classes))*100   #percentage\n",
    "print(f\"Attendace is {total}%\")\n",
    "if total >= 75:\n",
    "    print(\"You are allowed to sit in exam\")\n",
    "else:\n",
    "    print(\"You are not allowd to sit in the exam due to less attendance\")"
   ]
  },
  {
   "cell_type": "markdown",
   "metadata": {},
   "source": [
    "# Exercise # 9:\n",
    "Modify the above question to allow student to sit if he/she has medical cause. Ask user if he/she has medical cause or not ( 'Y' or 'N' ) and print accordingly."
   ]
  },
  {
   "cell_type": "code",
   "execution_count": 41,
   "metadata": {},
   "outputs": [
    {
     "output_type": "stream",
     "name": "stdout",
     "text": [
      "20.0\n",
      "You are not allowed\n"
     ]
    }
   ],
   "source": [
    "held_classes = int(input(\"Enter the number of classes held \"))\n",
    "attend_classes = int(input(\"Enter the number of classes attended \"))\n",
    "total = (attend_classes/(held_classes))*100\n",
    "print(total)\n",
    "medical_cause = input(\"Enter Y or N if you have any medical cause or not\")\n",
    "if total < 75 and medical_cause == \"Y\" or medical_cause == 'y':\n",
    "    print(\"You are allowed after submitting your medical certificates\")\n",
    "elif total < 75 and medical_cause == \"N\" or medical_cause == 'n':\n",
    "    print(\"You are not allowed\")\n",
    "else:\n",
    "    print(\"Not allowed\")\n"
   ]
  },
  {
   "cell_type": "code",
   "execution_count": null,
   "metadata": {},
   "outputs": [],
   "source": []
  }
 ],
 "metadata": {
  "kernelspec": {
   "display_name": "Python 3",
   "language": "python",
   "name": "python3"
  },
  "language_info": {
   "codemirror_mode": {
    "name": "ipython",
    "version": 3
   },
   "file_extension": ".py",
   "mimetype": "text/x-python",
   "name": "python",
   "nbconvert_exporter": "python",
   "pygments_lexer": "ipython3",
   "version": "3.7.3-final"
  }
 },
 "nbformat": 4,
 "nbformat_minor": 4
}