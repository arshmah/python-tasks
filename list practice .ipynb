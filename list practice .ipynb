{
 "cells": [
  {
   "cell_type": "markdown",
   "metadata": {},
   "source": [
    "Q1) Write a python program to sum all the items in a alist."
   ]
  },
  {
   "cell_type": "code",
   "execution_count": 1,
   "metadata": {},
   "outputs": [
    {
     "name": "stdout",
     "output_type": "stream",
     "text": [
      "30\n"
     ]
    }
   ],
   "source": [
    "numbers = [2,4,6,8,10]\n",
    "sum_of_numbers = sum(numbers)\n",
    "print(sum_of_numbers)"
   ]
  },
  {
   "cell_type": "markdown",
   "metadata": {},
   "source": [
    "Q2) Write a python program to multiplies all the items in a list."
   ]
  },
  {
   "cell_type": "code",
   "execution_count": 2,
   "metadata": {},
   "outputs": [
    {
     "name": "stdout",
     "output_type": "stream",
     "text": [
      "Numbers in list: [2, 4, 6, 8, 10]\n",
      "Result after multiplication: 3840\n"
     ]
    }
   ],
   "source": [
    "items = [2,4,6,8,10]\n",
    "product = 1\n",
    "for item in items:\n",
    "    product = product * item\n",
    "print(f\"Numbers in list: {items}\")\n",
    "print(f\"Result after multiplication: {product}\")"
   ]
  },
  {
   "cell_type": "markdown",
   "metadata": {},
   "source": [
    "Q3) Write a python program to copy a list."
   ]
  },
  {
   "cell_type": "code",
   "execution_count": 3,
   "metadata": {},
   "outputs": [
    {
     "name": "stdout",
     "output_type": "stream",
     "text": [
      "Orignal list is: ['arsh', 'kum', 'taha', 'hashu']\n",
      "copied list is: ['arsh', 'kum', 'taha', 'hashu']\n"
     ]
    }
   ],
   "source": [
    "orignal_list = ['arsh', 'kum', 'taha', 'hashu']\n",
    "copy_list = orignal_list.copy()\n",
    "print(\"Orignal list is:\" , orignal_list)\n",
    "print(\"copied list is:\" , copy_list)"
   ]
  },
  {
   "cell_type": "markdown",
   "metadata": {},
   "source": [
    "Q4) Write a python program to remove 1st 3rd and 5th element from a list and return the list."
   ]
  },
  {
   "cell_type": "code",
   "execution_count": 4,
   "metadata": {},
   "outputs": [
    {
     "name": "stdout",
     "output_type": "stream",
     "text": [
      "My Go to look: ['Nailpaint', 'Gown', 'Scarf', 'Staller', 'boots', 'Necklace', 'anklet']\n",
      "\n",
      "After removing first accessory:\n",
      "Go to look: ['Gown', 'Scarf', 'Staller', 'boots', 'Necklace', 'anklet']\n",
      "\n",
      "After removing third accessory:\n",
      "Go to look: ['Gown', 'Scarf', 'boots', 'Necklace', 'anklet']\n",
      "\n",
      "After removing fifth accessory:\n",
      "My final Go to look: ['Gown', 'Scarf', 'boots', 'Necklace']\n"
     ]
    }
   ],
   "source": [
    "dressUP = [\"Nailpaint\", \"Gown\", \"Scarf\", \"Staller\", \"boots\", \"Necklace\", \"anklet\"]\n",
    "\n",
    "#Its too over so I am removing 1st 3rd and 5th elements to adjust the look \n",
    "print(f\"My Go to look: {dressUP}\")\n",
    "\n",
    "dressUP.pop(0)\n",
    "print(\"\\nAfter removing first accessory:\")\n",
    "print(f\"Go to look: {dressUP}\")\n",
    "\n",
    "dressUP.pop(2)\n",
    "print(\"\\nAfter removing third accessory:\")\n",
    "print(f\"Go to look: {dressUP}\")\n",
    "\n",
    "dressUP.pop(4)\n",
    "print(\"\\nAfter removing fifth accessory:\")\n",
    "print(f\"My final Go to look: {dressUP}\")"
   ]
  },
  {
   "cell_type": "markdown",
   "metadata": {},
   "source": [
    "Q5) Write a python program to take index from user and remove that element from list."
   ]
  },
  {
   "cell_type": "code",
   "execution_count": 8,
   "metadata": {},
   "outputs": [
    {
     "name": "stdout",
     "output_type": "stream",
     "text": [
      "Enter the index number which you want to remove: 5\n",
      "Before Removing: [1, 2, 3, 4, 5, 6, 7, 8, 9, 10, 11, 12, 13]\n",
      "After Removing: [1, 2, 3, 4, 5, 7, 8, 9, 10, 11, 12, 13]\n"
     ]
    }
   ],
   "source": [
    "list1 = [1,2,3,4,5,6,7,8,9,10,11,12,13]\n",
    "index = int(input(\"Enter the index number which you want to remove: \"))\n",
    "print(f\"Before Removing: {list1}\")\n",
    "list1.pop(index)\n",
    "print(f\"After Removing: {list1}\")"
   ]
  },
  {
   "cell_type": "markdown",
   "metadata": {},
   "source": [
    "Q6) Given a python list. Turn every item of a list into its square."
   ]
  },
  {
   "cell_type": "code",
   "execution_count": 5,
   "metadata": {},
   "outputs": [
    {
     "name": "stdout",
     "output_type": "stream",
     "text": [
      "Numbers: [2, 4]\n",
      "Squares of numbers: [4, 16]\n"
     ]
    }
   ],
   "source": [
    "numbers = [2,4]\n",
    "sqr = []\n",
    "\n",
    "for number in numbers:\n",
    "    sqr.append(number * number)\n",
    "\n",
    "print(f\"Numbers: {numbers}\")\n",
    "print(f\"Squares of numbers: {sqr}\")"
   ]
  },
  {
   "cell_type": "markdown",
   "metadata": {},
   "source": [
    "Q7) Given a python list, find value 20 in the list, and if it is present, replace it with 200.\n",
    "list1 = [5, 10, 15, 20, 25, 50, 20]"
   ]
  },
  {
   "cell_type": "code",
   "execution_count": 6,
   "metadata": {},
   "outputs": [
    {
     "name": "stdout",
     "output_type": "stream",
     "text": [
      "Before: [5, 10, 15, 20, 25, 50, 20]\n",
      "After: [5, 10, 15, 200, 25, 50, 200]\n"
     ]
    }
   ],
   "source": [
    "list1 = [5,10,15,20,25,50,20]\n",
    "print(f\"Before: {list1}\")\n",
    "\n",
    "for a in list1:\n",
    "    if a == 20:\n",
    "        index = list1.index(a)\n",
    "        list1[index] = 200\n",
    "\n",
    "print(f\"After: {list1}\")\n",
    "    "
   ]
  },
  {
   "cell_type": "markdown",
   "metadata": {},
   "source": [
    "Q8) Given a python list you should be able to display python list in the following order\n",
    "           list1 = ['e', 'a', 'u', 'o', 'i']\n",
    "           expected output = ['a', 'e', 'i', 'o', 'u']"
   ]
  },
  {
   "cell_type": "code",
   "execution_count": 7,
   "metadata": {},
   "outputs": [
    {
     "name": "stdout",
     "output_type": "stream",
     "text": [
      "Before sorting: ['e', 'a', 'u', 'o', 'i']\n",
      "After sorting: ['a', 'e', 'i', 'o', 'u']\n"
     ]
    }
   ],
   "source": [
    "list1 = ['e', 'a', 'u', 'o', 'i']\n",
    "print(f\"Before sorting: {list1}\")\n",
    "list1.sort()\n",
    "print(f\"After sorting: {list1}\")"
   ]
  },
  {
   "cell_type": "code",
   "execution_count": null,
   "metadata": {},
   "outputs": [],
   "source": []
  }
 ],
 "metadata": {
  "kernelspec": {
   "display_name": "Python 3",
   "language": "python",
   "name": "python3"
  },
  "language_info": {
   "codemirror_mode": {
    "name": "ipython",
    "version": 3
   },
   "file_extension": ".py",
   "mimetype": "text/x-python",
   "name": "python",
   "nbconvert_exporter": "python",
   "pygments_lexer": "ipython3",
   "version": "3.7.3"
  }
 },
 "nbformat": 4,
 "nbformat_minor": 2
}
